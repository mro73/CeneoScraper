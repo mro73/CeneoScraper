{
 "cells": [
  {
   "cell_type": "markdown",
   "metadata": {},
   "source": [
    "# Ceneo Analyzer\n",
    "1. Wyświetlenie listy kodów produktów o których zostały pobrane opinie\n",
    "2. Pobranie od użytkownika kodu produktu którego statystyki mają być policzone\n",
    "3. Wczytanie z pliku JSON opinii o produkcie którego statystyki mają być policzone\n",
    "4. Policzenie podstawowych statystyk\n",
    "5. Przygotowanie wykresów\n",
    "    - Histogram częstości ocen produktu\n",
    "    - Wykres udziału rekomendacji w opiniach"
   ]
  },
  {
   "cell_type": "markdown",
   "metadata": {},
   "source": [
    "1. Import bibliotek"
   ]
  },
  {
   "cell_type": "code",
   "execution_count": 14,
   "metadata": {},
   "outputs": [],
   "source": [
    "import os\n",
    "import pandas as pd\n",
    "import numpy as np\n",
    "from matplotlib import pyplot as plt"
   ]
  },
  {
   "cell_type": "markdown",
   "metadata": {},
   "source": [
    "2. Wyświetlenie listy kodów produktów o których zostały pobrane opinie"
   ]
  },
  {
   "cell_type": "code",
   "execution_count": 4,
   "metadata": {},
   "outputs": [
    {
     "name": "stdout",
     "output_type": "stream",
     "text": [
      "149845826\n",
      "162846924\n"
     ]
    }
   ],
   "source": [
    "print(*[filename.split(\".\")[0] for filename in os.listdir('opinions')], sep=\"\\n\")"
   ]
  },
  {
   "cell_type": "markdown",
   "metadata": {},
   "source": [
    "3. Pobranie od użytkownika kodu produktu którego statystyki mają być policzone"
   ]
  },
  {
   "cell_type": "code",
   "execution_count": 5,
   "metadata": {},
   "outputs": [],
   "source": [
    "product_code = input(\"Podaj kod produktu z Ceneo.pl: \")"
   ]
  },
  {
   "cell_type": "markdown",
   "metadata": {},
   "source": [
    "4. Wczytanie z pliku JSON opinii o produkcie którego statystyki mają być policzone"
   ]
  },
  {
   "cell_type": "code",
   "execution_count": 17,
   "metadata": {},
   "outputs": [],
   "source": [
    "opinions = pd.read_json(f\"opinions/{product_code}.json\")\n",
    "opinions.stars = opinions.stars.apply(lambda s: s.split('/')[0].replace(',', '.'))"
   ]
  },
  {
   "cell_type": "markdown",
   "metadata": {},
   "source": [
    "5. Policzenie podstawowych statystyk"
   ]
  },
  {
   "cell_type": "code",
   "execution_count": 27,
   "metadata": {},
   "outputs": [
    {
     "data": {
      "text/plain": [
       "4.85"
      ]
     },
     "execution_count": 27,
     "metadata": {},
     "output_type": "execute_result"
    }
   ],
   "source": [
    "opinions_count = opinions.shape[0]\n",
    "pros_count = opinions.pros.astype(bool).sum()\n",
    "cons_count = opinions.pros.astype(bool).sum()\n",
    "average_stars = opinions.stars.astype(float).mean()\n",
    "average_stars"
   ]
  },
  {
   "cell_type": "markdown",
   "metadata": {},
   "source": [
    "6. Histogram częstości ocen produktu"
   ]
  },
  {
   "cell_type": "code",
   "execution_count": 28,
   "metadata": {},
   "outputs": [
    {
     "data": {
      "text/plain": [
       "(array([ 0,  1,  2,  3,  4,  5,  6,  7,  8,  9, 10]),\n",
       " [Text(0, 0, '0.0'),\n",
       "  Text(1, 0, '0.5'),\n",
       "  Text(2, 0, '1.0'),\n",
       "  Text(3, 0, '1.5'),\n",
       "  Text(4, 0, '2.0'),\n",
       "  Text(5, 0, '2.5'),\n",
       "  Text(6, 0, '3.0'),\n",
       "  Text(7, 0, '3.5'),\n",
       "  Text(8, 0, '4.0'),\n",
       "  Text(9, 0, '4.5'),\n",
       "  Text(10, 0, '5.0')])"
      ]
     },
     "execution_count": 28,
     "metadata": {},
     "output_type": "execute_result"
    },
    {
     "data": {
      "image/png": "[encoded data removed]",
      "text/plain": [
       "<Figure size 640x480 with 1 Axes>"
      ]
     },
     "metadata": {},
     "output_type": "display_data"
    }
   ],
   "source": [
    "stars_distr = opinions.stars.value_counts().reindex(np.arange(0,5.5,0.5), fill_value=0)\n",
    "stars_distr.plot.bar(color='gray')\n",
    "plt.title(f\"Histogram częstości ocen produktu {product_code}\")\n",
    "plt.xlabel(\"liczba gwiazdek\")\n",
    "plt.ylabel(\"liczba opinii\")\n",
    "plt.xticks(rotation=0)"
   ]
  },
  {
   "cell_type": "code",
   "execution_count": 19,
   "metadata": {},
   "outputs": [
    {
     "data": {
      "text/html": [
       "<div>\n",
       "<style scoped>\n",
       "    .dataframe tbody tr th:only-of-type {\n",
       "        vertical-align: middle;\n",
       "    }\n",
       "\n",
       "    .dataframe tbody tr th {\n",
       "        vertical-align: top;\n",
       "    }\n",
       "\n",
       "    .dataframe thead th {\n",
       "        text-align: right;\n",
       "    }\n",
       "</style>\n",
       "<table border=\"1\" class=\"dataframe\">\n",
       "  <thead>\n",
       "    <tr style=\"text-align: right;\">\n",
       "      <th></th>\n",
       "      <th>opinion_id</th>\n",
       "      <th>author</th>\n",
       "      <th>recommendation</th>\n",
       "      <th>stars</th>\n",
       "      <th>content</th>\n",
       "      <th>pros</th>\n",
       "      <th>cons</th>\n",
       "      <th>post_date</th>\n",
       "      <th>useful</th>\n",
       "      <th>useless</th>\n",
       "    </tr>\n",
       "  </thead>\n",
       "  <tbody>\n",
       "    <tr>\n",
       "      <th>0</th>\n",
       "      <td>17644074</td>\n",
       "      <td>h...z</td>\n",
       "      <td></td>\n",
       "      <td>5</td>\n",
       "      <td>#Promocja-Galaxy \\nTelefon jest szybki, działa...</td>\n",
       "      <td>[]</td>\n",
       "      <td>[]</td>\n",
       "      <td>2023-06-24 10:14:32</td>\n",
       "      <td>6</td>\n",
       "      <td>2</td>\n",
       "    </tr>\n",
       "    <tr>\n",
       "      <th>1</th>\n",
       "      <td>17497612</td>\n",
       "      <td>M...k</td>\n",
       "      <td></td>\n",
       "      <td>4.5</td>\n",
       "      <td>Przesiadłam się z Samsunga A50 na A54 więc prz...</td>\n",
       "      <td>[czas pracy na baterii, długie wsparcie, głośn...</td>\n",
       "      <td>[brak minijack]</td>\n",
       "      <td>2023-05-11 18:21:22</td>\n",
       "      <td>16</td>\n",
       "      <td>2</td>\n",
       "    </tr>\n",
       "    <tr>\n",
       "      <th>2</th>\n",
       "      <td>17803324</td>\n",
       "      <td>o...n</td>\n",
       "      <td></td>\n",
       "      <td>5</td>\n",
       "      <td>Nie jest to flagowiec czyli Samsung Galaxy S w...</td>\n",
       "      <td>[czas pracy na baterii, funkcjonalność, łatwoś...</td>\n",
       "      <td>[]</td>\n",
       "      <td>2023-08-15 09:56:25</td>\n",
       "      <td>6</td>\n",
       "      <td>0</td>\n",
       "    </tr>\n",
       "    <tr>\n",
       "      <th>3</th>\n",
       "      <td>17646953</td>\n",
       "      <td>p...a</td>\n",
       "      <td></td>\n",
       "      <td>4.5</td>\n",
       "      <td>Design miły dla oka, wielki plus za szkło z ty...</td>\n",
       "      <td>[czas pracy na baterii, długie wsparcie, funkc...</td>\n",
       "      <td>[]</td>\n",
       "      <td>2023-06-26 11:12:01</td>\n",
       "      <td>3</td>\n",
       "      <td>2</td>\n",
       "    </tr>\n",
       "    <tr>\n",
       "      <th>4</th>\n",
       "      <td>18257691</td>\n",
       "      <td>c...o</td>\n",
       "      <td></td>\n",
       "      <td>4.5</td>\n",
       "      <td>Elegancki, bałam się że będzie za duży (do tej...</td>\n",
       "      <td>[czas pracy na baterii, funkcjonalność, głośni...</td>\n",
       "      <td>[brak minijack]</td>\n",
       "      <td>2023-12-29 13:43:11</td>\n",
       "      <td>2</td>\n",
       "      <td>0</td>\n",
       "    </tr>\n",
       "    <tr>\n",
       "      <th>5</th>\n",
       "      <td>18384972</td>\n",
       "      <td>Paweł</td>\n",
       "      <td></td>\n",
       "      <td>5</td>\n",
       "      <td>Po miesiącu użytkowania jestem zadowolony\\nUwa...</td>\n",
       "      <td>[czas pracy na baterii, funkcjonalność, głośni...</td>\n",
       "      <td>[]</td>\n",
       "      <td>2024-02-09 13:15:51</td>\n",
       "      <td>0</td>\n",
       "      <td>1</td>\n",
       "    </tr>\n",
       "    <tr>\n",
       "      <th>6</th>\n",
       "      <td>17773464</td>\n",
       "      <td>Mateusz</td>\n",
       "      <td></td>\n",
       "      <td>5</td>\n",
       "      <td>Przesiadka z LG G8s na Samsung A54. Wszystkie ...</td>\n",
       "      <td>[czas pracy na baterii, funkcjonalność, głośni...</td>\n",
       "      <td>[]</td>\n",
       "      <td>2023-08-04 10:41:56</td>\n",
       "      <td>3</td>\n",
       "      <td>1</td>\n",
       "    </tr>\n",
       "    <tr>\n",
       "      <th>7</th>\n",
       "      <td>17525754</td>\n",
       "      <td>w...3</td>\n",
       "      <td></td>\n",
       "      <td>5</td>\n",
       "      <td>Jestem zadowolony z produktu</td>\n",
       "      <td>[czas pracy na baterii, funkcjonalność, łatwoś...</td>\n",
       "      <td>[]</td>\n",
       "      <td>2023-05-19 11:08:51</td>\n",
       "      <td>3</td>\n",
       "      <td>1</td>\n",
       "    </tr>\n",
       "    <tr>\n",
       "      <th>8</th>\n",
       "      <td>18651216</td>\n",
       "      <td>k...9</td>\n",
       "      <td></td>\n",
       "      <td>5</td>\n",
       "      <td>Testuję telefon od kilku dni w porównaniu do m...</td>\n",
       "      <td>[]</td>\n",
       "      <td>[]</td>\n",
       "      <td>2024-05-15 23:05:01</td>\n",
       "      <td>1</td>\n",
       "      <td>0</td>\n",
       "    </tr>\n",
       "    <tr>\n",
       "      <th>9</th>\n",
       "      <td>18085406</td>\n",
       "      <td>i...n</td>\n",
       "      <td></td>\n",
       "      <td>5</td>\n",
       "      <td>Przesiadłem się z Motoroli akurat na ten model...</td>\n",
       "      <td>[]</td>\n",
       "      <td>[]</td>\n",
       "      <td>2023-11-10 08:47:13</td>\n",
       "      <td>3</td>\n",
       "      <td>0</td>\n",
       "    </tr>\n",
       "  </tbody>\n",
       "</table>\n",
       "</div>"
      ],
      "text/plain": [
       "   opinion_id   author recommendation stars  \\\n",
       "0    17644074    h...z                    5   \n",
       "1    17497612    M...k                  4.5   \n",
       "2    17803324    o...n                    5   \n",
       "3    17646953    p...a                  4.5   \n",
       "4    18257691    c...o                  4.5   \n",
       "5    18384972    Paweł                    5   \n",
       "6    17773464  Mateusz                    5   \n",
       "7    17525754    w...3                    5   \n",
       "8    18651216    k...9                    5   \n",
       "9    18085406    i...n                    5   \n",
       "\n",
       "                                             content  \\\n",
       "0  #Promocja-Galaxy \\nTelefon jest szybki, działa...   \n",
       "1  Przesiadłam się z Samsunga A50 na A54 więc prz...   \n",
       "2  Nie jest to flagowiec czyli Samsung Galaxy S w...   \n",
       "3  Design miły dla oka, wielki plus za szkło z ty...   \n",
       "4  Elegancki, bałam się że będzie za duży (do tej...   \n",
       "5  Po miesiącu użytkowania jestem zadowolony\\nUwa...   \n",
       "6  Przesiadka z LG G8s na Samsung A54. Wszystkie ...   \n",
       "7                       Jestem zadowolony z produktu   \n",
       "8  Testuję telefon od kilku dni w porównaniu do m...   \n",
       "9  Przesiadłem się z Motoroli akurat na ten model...   \n",
       "\n",
       "                                                pros             cons  \\\n",
       "0                                                 []               []   \n",
       "1  [czas pracy na baterii, długie wsparcie, głośn...  [brak minijack]   \n",
       "2  [czas pracy na baterii, funkcjonalność, łatwoś...               []   \n",
       "3  [czas pracy na baterii, długie wsparcie, funkc...               []   \n",
       "4  [czas pracy na baterii, funkcjonalność, głośni...  [brak minijack]   \n",
       "5  [czas pracy na baterii, funkcjonalność, głośni...               []   \n",
       "6  [czas pracy na baterii, funkcjonalność, głośni...               []   \n",
       "7  [czas pracy na baterii, funkcjonalność, łatwoś...               []   \n",
       "8                                                 []               []   \n",
       "9                                                 []               []   \n",
       "\n",
       "             post_date  useful  useless  \n",
       "0  2023-06-24 10:14:32       6        2  \n",
       "1  2023-05-11 18:21:22      16        2  \n",
       "2  2023-08-15 09:56:25       6        0  \n",
       "3  2023-06-26 11:12:01       3        2  \n",
       "4  2023-12-29 13:43:11       2        0  \n",
       "5  2024-02-09 13:15:51       0        1  \n",
       "6  2023-08-04 10:41:56       3        1  \n",
       "7  2023-05-19 11:08:51       3        1  \n",
       "8  2024-05-15 23:05:01       1        0  \n",
       "9  2023-11-10 08:47:13       3        0  "
      ]
     },
     "execution_count": 19,
     "metadata": {},
     "output_type": "execute_result"
    }
   ],
   "source": [
    "opinions"
   ]
  }
 ],
 "metadata": {
  "kernelspec": {
   "display_name": ".venv",
   "language": "python",
   "name": "python3"
  },
  "language_info": {
   "codemirror_mode": {
    "name": "ipython",
    "version": 3
   },
   "file_extension": ".py",
   "mimetype": "text/x-python",
   "name": "python",
   "nbconvert_exporter": "python",
   "pygments_lexer": "ipython3",
   "version": "3.12.4"
  }
 },
 "nbformat": 4,
 "nbformat_minor": 2
}
