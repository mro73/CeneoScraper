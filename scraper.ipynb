{
 "cells": [
  {
   "cell_type": "markdown",
   "metadata": {},
   "source": [
    "## Lista kroków \"manualnych\"\n",
    "1. Wejdź na stronę produktu/z opiniami o produkcie.\n",
    "2. Dla każdej opinii na stronie\n",
    "    1. Skopiuj opinię\n",
    "    2. Wklej opinię do edytora tekstu\n",
    "3. Przejdź do kolejnej strony z opiniami\n",
    "4. Powtarzaj kroki 2-3 dopóki są strony z opiniami\n",
    "\n",
    "## Lista kroków scrapera\n",
    "1. Wysłanie żądania dostępu do zasobu - strona z opiniami o produkcie\n",
    "2. Wydobycie z kodu HTML fragmentów odpowiadających opiniom.\n",
    "3. Dla każdej opinii na stronie\n",
    "    1. Wydobycie z kodu opinii jej składowych\n"
   ]
  },
  {
   "cell_type": "markdown",
   "metadata": {},
   "source": [
    "## Struktura opinii w serwisie Ceneo.pl\n",
    "|składowa|nazwa|selektor|\n",
    "|--------|-----|--------|\n",
    "|identyfikator opinii|opinion_id||\n",
    "|autor|author||\n",
    "|rekomendacja|recommendation||\n",
    "|treść opinii|content||\n",
    "|lista zalet|pros||\n",
    "|lista wad|cons||\n",
    "|data wystawienia opinii|post_date||\n",
    "|data zakupu produktu|purchase_date||\n",
    "|ile osób uznało opinię za przydatną|useful||\n",
    "|ile osób uznało opinię za nieprzydatną|useless||"
   ]
  },
  {
   "cell_type": "code",
   "execution_count": null,
   "metadata": {},
   "outputs": [],
   "source": [
    "149845826\n",
    "158186036\n",
    "152295133\n",
    "162688719\n",
    "162846924"
   ]
  },
  {
   "cell_type": "markdown",
   "metadata": {},
   "source": [
    "1. Import bibliotek."
   ]
  },
  {
   "cell_type": "code",
   "execution_count": null,
   "metadata": {},
   "outputs": [],
   "source": [
    "import requests\n",
    "from bs4 import BeautifulSoup"
   ]
  },
  {
   "cell_type": "markdown",
   "metadata": {},
   "source": [
    "2. Wysłanie ządania dostępu do zasobu."
   ]
  },
  {
   "cell_type": "code",
   "execution_count": null,
   "metadata": {},
   "outputs": [],
   "source": [
    "product_code = \"149845826\"\n",
    "url = f\"https://www.ceneo.pl/{product_code}#tab=reviews\"\n",
    "response = requests.get(url)\n",
    "print(response.status_code)"
   ]
  },
  {
   "cell_type": "markdown",
   "metadata": {},
   "source": [
    "3. Wydobycie z kodu HTML fragmentów  odpowiadających opiniom"
   ]
  },
  {
   "cell_type": "code",
   "execution_count": null,
   "metadata": {},
   "outputs": [],
   "source": [
    "page = BeautifulSoup(response.text, \"html.parser\")\n",
    "opinions = page.select(\"div.js_product-review\")"
   ]
  },
  {
   "cell_type": "markdown",
   "metadata": {},
   "source": [
    "4. Wydobycie z kodu opinii jej składowych dla każdej opinii na stronie"
   ]
  },
  {
   "cell_type": "code",
   "execution_count": null,
   "metadata": {},
   "outputs": [],
   "source": [
    "for opinion in opinions:\n",
    "    pass"
   ]
  }
 ],
 "metadata": {
  "kernelspec": {
   "display_name": ".venv",
   "language": "python",
   "name": "python3"
  },
  "language_info": {
   "codemirror_mode": {
    "name": "ipython",
    "version": 3
   },
   "file_extension": ".py",
   "mimetype": "text/x-python",
   "name": "python",
   "nbconvert_exporter": "python",
   "pygments_lexer": "ipython3",
   "version": "3.12.3"
  }
 },
 "nbformat": 4,
 "nbformat_minor": 2
}
