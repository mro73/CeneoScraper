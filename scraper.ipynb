{
 "cells": [
  {
   "cell_type": "markdown",
   "metadata": {},
   "source": [
    "## Lista kroków \"manualnych\"\n",
    "1. Wejdź na stronę produktu/z opiniami o produkcie.\n",
    "2. Dla każdej opinii na stronie\n",
    "    1. Skopiuj opinię\n",
    "    2. Wklej opinię do edytora tekstu\n",
    "3. Przejdź do kolejnej strony z opiniami\n",
    "4. Powtarzaj kroki 2-3 dopóki są strony z opiniami\n",
    "\n",
    "## Lista kroków scrapera\n",
    "1. Wysłanie żądania dostępu do zasobu - strona z opiniami o produkcie\n",
    "2. Wydobycie z kodu HTML fragmentów odpowiadających opiniom.\n",
    "3. Dla każdej opinii na stronie\n",
    "    1. Wydobycie z kodu opinii jej składowych\n",
    "    2. Dodanie słownika reprezentującego pojedynczą opinię do listy\n",
    "4. Przejdź do kolejnej strony z opiniami\n",
    "5. Powtarzaj kroki dopóki są strony z opiniami\n",
    "6. Zapis listy słowników do pliku JSON\n"
   ]
  },
  {
   "cell_type": "markdown",
   "metadata": {},
   "source": [
    "## Struktura opinii w serwisie Ceneo.pl\n",
    "|składowa|nazwa|selektor|\n",
    "|--------|-----|--------|\n",
    "|identyfikator opinii|opinion_id|[\"data-entry-id\"]|\n",
    "|autor|author|span.user-post__author-name|\n",
    "|rekomendacja|recommendation|span.user-post__recomendation > em|\n",
    "|liczba gwiazdek|stars|span.user-post__score-count|\n",
    "|treść opinii|content|div.user-post__text|\n",
    "|lista zalet|pros|div.review-feature__title--positives ~ div.review-feature__item|\n",
    "|lista wad|cons|div.review-feature__title--negatives ~ div.review-feature__item|\n",
    "|data wystawienia opinii|post_date|span.user-post__published > time:nth-child(1)[\"datetime\"]|\n",
    "|data zakupu produktu|purchase_date|span.user-post__published > time:nth-child(2)[\"datetime\"]|\n",
    "|ile osób uznało opinię za przydatną|useful|button.vote-yes > span|\n",
    "|ile osób uznało opinię za nieprzydatną|useless|button.vote-no > span|"
   ]
  },
  {
   "cell_type": "markdown",
   "metadata": {},
   "source": [
    "149845826\n",
    "158186036\n",
    "152295133\n",
    "162688719\n",
    "162846924"
   ]
  },
  {
   "cell_type": "markdown",
   "metadata": {},
   "source": [
    "1. Import bibliotek."
   ]
  },
  {
   "cell_type": "code",
   "execution_count": 26,
   "metadata": {},
   "outputs": [],
   "source": [
    "import requests\n",
    "from bs4 import BeautifulSoup\n",
    "import os\n",
    "import json"
   ]
  },
  {
   "cell_type": "markdown",
   "metadata": {},
   "source": [
    "2. Definicje funkcji\n",
    "- Funkcja do pobierania danych ze strony WWW"
   ]
  },
  {
   "cell_type": "code",
   "execution_count": null,
   "metadata": {},
   "outputs": [],
   "source": [
    "def get_data(ancestor, selector, attribute=None, return_list=False):\n",
    "    if return_list:\n",
    "        return [tag.text.strip() for tag in ancestor.select(selector)]\n",
    "    if attribute:\n",
    "        if selector:\n",
    "            try:  \n",
    "                return ancestor.select_one(selector)[attribute].strip()\n",
    "            except TypeError:\n",
    "                return None\n",
    "        return ancestor[attribute].strip()\n",
    "    try:\n",
    "        return ancestor.select_one(selector).test.strip()\n",
    "    except AttributeError:\n",
    "        return None"
   ]
  },
  {
   "cell_type": "markdown",
   "metadata": {},
   "source": [
    "3. Definicja stałych i zmiennych globalnych\n",
    "- zmienna opisująca strukturę opinii w serwisie Ceneo.pl"
   ]
  },
  {
   "cell_type": "code",
   "execution_count": null,
   "metadata": {},
   "outputs": [],
   "source": [
    "selectors = {\n",
    "    'opinion_id': (None, \"data-entry-id\"),\n",
    "    'author': (\"span.user-post__author-name\",),\n",
    "    'recommendation': (\"span.user-post__author-recomendation > em\",),\n",
    "    'stars': (\"span.user-post__score-count\",),\n",
    "    'content': (\"div.user-post__text\",),\n",
    "    'pros': (\"div.review-feature__title--positives ~ div.review-feature__item\", None, True),\n",
    "    'cons': (\"div.review-feature__title--negatives ~ div.review-feature__item\", None, True),\n",
    "    'post_date': (\"span.user-post__published > time:nth-child(1)\",\"datetime\"),\n",
    "    'purchase_date': (\"span.user-post__published > time:nth-child(2)\", \"datetime\"),\n",
    "    'useful': (\"button.vote-yes > span\",),\n",
    "    'useless': (\"button.vote-no > span\",),\n",
    "}"
   ]
  },
  {
   "cell_type": "markdown",
   "metadata": {},
   "source": [
    "4. Podanie adresu pierwszej strony z opiniami na podstawie kodu produktu"
   ]
  },
  {
   "cell_type": "code",
   "execution_count": 37,
   "metadata": {},
   "outputs": [],
   "source": [
    "product_code = input(\"Podaj kod produktu z Ceneo.pl: \")\n",
    "url = f\"https://www.ceneo.pl/{product_code}#tab=reviews\""
   ]
  },
  {
   "cell_type": "markdown",
   "metadata": {},
   "source": [
    "5. Pobranie wszystkich opinii o produkcie z serwisu Ceneo.pl"
   ]
  },
  {
   "cell_type": "code",
   "execution_count": 38,
   "metadata": {},
   "outputs": [
    {
     "name": "stdout",
     "output_type": "stream",
     "text": [
      "https://www.ceneo.pl/162846924#tab=reviews\n",
      "https://ceneo.pl/162846924/opinie-2\n",
      "https://ceneo.pl/162846924/opinie-3\n",
      "[{'opinion_id': '18324546', 'author': 'k...i', 'recommendation': '', 'stars': '5/5', 'content': 'Jestem bardzo zadowolony.\\nPOCO X6 pro 5g rewelacyjny.\\nŚmiga ino wicher.', 'pros': ['czas pracy na baterii', 'funkcjonalność', 'łatwość obsługi', 'wygląd'], 'cons': [], 'post_date': '2024-01-22 09:22:03', 'useful': '3', 'useless': '2'}, {'opinion_id': '18518890', 'author': 'p...0', 'recommendation': '', 'stars': '5/5', 'content': 'Świetny. Lepszy np od Samsunga A53.', 'pros': [], 'cons': [], 'post_date': '2024-03-23 11:02:37', 'useful': '2', 'useless': '0'}, {'opinion_id': '18369694', 'author': 't...2', 'recommendation': '', 'stars': '4,5/5', 'content': 'Sprosta moim wymaganiom', 'pros': ['czas pracy na baterii', 'funkcjonalność', 'łatwość obsługi', 'wygląd'], 'cons': [], 'post_date': '2024-02-06 07:40:38', 'useful': '0', 'useless': '0'}, {'opinion_id': '18521688', 'author': 's...6', 'recommendation': '', 'stars': '4,5/5', 'content': 'Bardzo dobry, szybki.', 'pros': [], 'cons': [], 'post_date': '2024-03-25 09:47:41', 'useful': '0', 'useless': '0'}, {'opinion_id': '18401358', 'author': 'm...3', 'recommendation': '', 'stars': '5/5', 'content': 'Bardzo dobry telefon', 'pros': [], 'cons': [], 'post_date': '2024-02-15 09:40:20', 'useful': '0', 'useless': '0'}, {'opinion_id': '18399434', 'author': 'r...i', 'recommendation': '', 'stars': '4/5', 'content': 'wszystkie oki', 'pros': [], 'cons': [], 'post_date': '2024-02-14 19:55:50', 'useful': '0', 'useless': '0'}, {'opinion_id': '18467919', 'author': 'm...z', 'recommendation': '', 'stars': '5/5', 'content': 'Super', 'pros': [], 'cons': [], 'post_date': '2024-03-06 22:28:20', 'useful': '0', 'useless': '0'}, {'opinion_id': '18656567', 'author': 'k...o', 'recommendation': '', 'stars': '4,5/5', 'content': 'Ok', 'pros': ['czas pracy na baterii', 'funkcjonalność', 'łatwość obsługi', 'wygląd'], 'cons': [], 'post_date': '2024-05-17 12:09:19', 'useful': '0', 'useless': '0'}, {'opinion_id': '18364122', 'author': 'Adam', 'recommendation': '', 'stars': '5/5', 'content': 'Jestem posiadaczem tego telefonu od dwóch tygodni więc nie co mogę się wypowiedzieć. Otóż jest to naprawdę udany model z jego zalet wymienić mogę przepiękny ekran niezłe głośniki stereo dobry aparat i flagową wydajność wszystko śmiga błyskawicznie jak do tej pory nie znalazłem jeszcze żadnej wady, bateria również wytrzymuje bez problemu nawet bardzo intensywny dzień. Polecam', 'pros': ['czas pracy na baterii', 'funkcjonalność', 'łatwość obsługi', 'wygląd'], 'cons': [], 'post_date': '2024-02-03 09:36:44', 'useful': '2', 'useless': '0'}, {'opinion_id': '18348628', 'author': 'e...6', 'recommendation': '', 'stars': '5/5', 'content': 'Fantastyczny telefon. Ta cena jest naprawdę nieadekwatna do jakości - niejeden flagowiec z takimi możliwościami kosztowałby więcej. Działa bardzo płynnie, znakomicie robi zdjęcia, jest wygodny. Nowy sposób odblokowywania przez odcisk palca z przodu to game changer - świetne rozwiązanie.', 'pros': ['czas pracy na baterii', 'funkcjonalność', 'łatwość obsługi', 'wygląd'], 'cons': [], 'post_date': '2024-01-30 07:58:59', 'useful': '1', 'useless': '1'}, {'opinion_id': '18390999', 'author': 'l...0', 'recommendation': '', 'stars': '5/5', 'content': 'Zgodny z opisem, po niespełna miesiącu działa bez zarzutów, czas pracy baterii nie jest rewelacyjny, mam wrażenie że szybciej rozładowuje się niz redmi note 11', 'pros': ['funkcjonalność', 'łatwość obsługi', 'wygląd'], 'cons': [], 'post_date': '2024-02-12 16:49:41', 'useful': '2', 'useless': '0'}, {'opinion_id': '18362496', 'author': 's...z', 'recommendation': '', 'stars': '4,5/5', 'content': 'Wykonanie jest bardzo estetyczne aczkolwiek zmieniłbym kilka rzeczy w nowym systemie gdyż nie wszystko działa funkcjonalnie oraz intuicyjnie', 'pros': ['czas pracy na baterii', 'funkcjonalność', 'łatwość obsługi', 'wygląd'], 'cons': [], 'post_date': '2024-02-02 13:31:45', 'useful': '3', 'useless': '1'}, {'opinion_id': '18338019', 'author': 'b...l', 'recommendation': '', 'stars': '5/5', 'content': 'Na razie w fazie testu. Ale POCO jest spoko. Dziala az milo.', 'pros': ['czas pracy na baterii', 'funkcjonalność', 'łatwość obsługi', 'wygląd'], 'cons': [], 'post_date': '2024-01-25 14:03:40', 'useful': '3', 'useless': '0'}, {'opinion_id': '18336787', 'author': 's...h', 'recommendation': '', 'stars': '5/5', 'content': 'Wart swojej ceny. Stosunek ceny do możliwości idealny. Poza tym wszystko O.K. 🙂', 'pros': [], 'cons': [], 'post_date': '2024-01-25 09:42:13', 'useful': '4', 'useless': '3'}, {'opinion_id': '18537372', 'author': 'r...6', 'recommendation': '', 'stars': '5/5', 'content': 'Bardzo dobry telefon. Rewelacyjny stosunek jakości zwłaszcza konfiguracji do ceny!', 'pros': ['czas pracy na baterii', 'funkcjonalność', 'łatwość obsługi'], 'cons': [], 'post_date': '2024-03-29 22:06:10', 'useful': '1', 'useless': '1'}, {'opinion_id': '18349000', 'author': 'e...a', 'recommendation': '', 'stars': '5/5', 'content': 'Jest super,ładny szybki ma wszystko czego potrzebuje', 'pros': [], 'cons': [], 'post_date': '2024-01-30 08:29:00', 'useful': '1', 'useless': '0'}, {'opinion_id': '18617571', 'author': 'a...w', 'recommendation': '', 'stars': '5/5', 'content': 'POCO... Po co dużo pisać? Po prostu wart zakupu', 'pros': ['funkcjonalność', 'łatwość obsługi', 'wygląd'], 'cons': [], 'post_date': '2024-05-01 18:03:28', 'useful': '0', 'useless': '0'}, {'opinion_id': '18331814', 'author': 's...i', 'recommendation': '', 'stars': '5/5', 'content': 'Świetny telefon. Polecam.', 'pros': [], 'cons': [], 'post_date': '2024-01-24 08:54:06', 'useful': '3', 'useless': '1'}, {'opinion_id': '18648004', 'author': 'e...6', 'recommendation': '', 'stars': '4/5', 'content': 'Ok, na minus reklamy i śmieciowe aplikacje', 'pros': ['czas pracy na baterii', 'łatwość obsługi', 'wygląd'], 'cons': [], 'post_date': '2024-05-14 21:33:59', 'useful': '0', 'useless': '0'}, {'opinion_id': '18473312', 'author': 's...u', 'recommendation': '', 'stars': '5/5', 'content': 'W tej cenie  świetny sprzęt.', 'pros': [], 'cons': [], 'post_date': '2024-03-08 09:50:47', 'useful': '0', 'useless': '0'}, {'opinion_id': '18509337', 'author': 'p...i', 'recommendation': '', 'stars': '5/5', 'content': 'Najlepszy Smartfon ever! :)', 'pros': [], 'cons': [], 'post_date': '2024-03-20 14:27:26', 'useful': '0', 'useless': '0'}, {'opinion_id': '18581242', 'author': 'a...3', 'recommendation': '', 'stars': '5/5', 'content': 'Jest na 100 procent godny polecenia', 'pros': ['czas pracy na baterii', 'funkcjonalność', 'łatwość obsługi', 'wygląd'], 'cons': [], 'post_date': '2024-04-17 11:48:39', 'useful': '0', 'useless': '1'}, {'opinion_id': '18349985', 'author': 'j...b', 'recommendation': '', 'stars': '5/5', 'content': 'jak na razie jest ok', 'pros': ['czas pracy na baterii', 'funkcjonalność', 'łatwość obsługi', 'wygląd'], 'cons': [], 'post_date': '2024-01-30 10:17:12', 'useful': '0', 'useless': '0'}, {'opinion_id': '18376199', 'author': 'f...5', 'recommendation': '', 'stars': '4/5', 'content': 'j.w.', 'pros': [], 'cons': [], 'post_date': '2024-02-07 11:38:45', 'useful': '1', 'useless': '0'}, {'opinion_id': '18628259', 'author': 'p...2', 'recommendation': '', 'stars': '5/5', 'content': 'Dobry zakup', 'pros': ['czas pracy na baterii', 'funkcjonalność', 'łatwość obsługi', 'wygląd'], 'cons': [], 'post_date': '2024-05-07 08:52:18', 'useful': '0', 'useless': '0'}]\n",
      "None\n"
     ]
    }
   ],
   "source": [
    "all_opinions = []\n",
    "while(url):\n",
    "    print(url)\n",
    "    response = requests.get(url)\n",
    "    page = BeautifulSoup(response.text, \"html.parser\")\n",
    "    opinions = page.select('div.js_product-review')\n",
    "    for opinion in opinions:\n",
    "        single_opinion = {\n",
    "            key: get_data(opinion, *value)\n",
    "                for key, value in selectors.items()\n",
    "        }\n",
    "        all_opinions.append(single_opinion)\n",
    "    try:\n",
    "        url = \"https://ceneo.pl\"+page.select_one(\"a.pagination__next\")[\"href\"]\n",
    "    except TypeError:\n",
    "        url = None    "
   ]
  },
  {
   "cell_type": "markdown",
   "metadata": {},
   "source": [
    "6. Zapis opinii do pliku JSON"
   ]
  },
  {
   "cell_type": "code",
   "execution_count": 40,
   "metadata": {},
   "outputs": [],
   "source": [
    "if not os.path.exists(\"opinions\"):\n",
    "    os.mkdir(\"opinions\")\n",
    "jf = open(f\"opinions/{product_code}.json\", \"w\", encoding=\"UTF-8\")\n",
    "json.dump(all_opinions, jf, indent=4, ensure_ascii=False)\n",
    "jf.close()"
   ]
  }
 ],
 "metadata": {
  "kernelspec": {
   "display_name": ".venv",
   "language": "python",
   "name": "python3"
  },
  "language_info": {
   "codemirror_mode": {
    "name": "ipython",
    "version": 3
   },
   "file_extension": ".py",
   "mimetype": "text/x-python",
   "name": "python",
   "nbconvert_exporter": "python",
   "pygments_lexer": "ipython3",
   "version": "3.12.4"
  }
 },
 "nbformat": 4,
 "nbformat_minor": 2
}
