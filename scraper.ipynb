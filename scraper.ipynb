{
 "cells": [
  {
   "cell_type": "markdown",
   "metadata": {},
   "source": [
    "## Lista kroków \"manualnych\"\n",
    "1. Wejdź na stronę produktu/z opiniami o produkcie.\n",
    "2. Dla każdej opinii na stronie\n",
    "    1. Skopiuj opinię\n",
    "    2. Wklej opinię do edytora tekstu\n",
    "3. Przejdź do kolejnej strony z opiniami\n",
    "4. Powtarzaj kroki 2-3 dopóki są strony z opiniami\n",
    "\n",
    "## Lista kroków scrapera\n",
    "1. Wysłanie żądania dostępu do zasobu - strona z opiniami o produkcie\n",
    "2. Wydobycie z kodu HTML fragmentów odpowiadających opiniom.\n",
    "3. Dla każdej opinii na stronie\n",
    "    1. Wydobycie z kodu opinii jej składowych\n",
    "    2. Dodanie słownika reprezentującego pojedynczą opinię do listy\n"
   ]
  },
  {
   "cell_type": "markdown",
   "metadata": {},
   "source": [
    "## Struktura opinii w serwisie Ceneo.pl\n",
    "|składowa|nazwa|selektor|\n",
    "|--------|-----|--------|\n",
    "|identyfikator opinii|opinion_id|[\"data-entry-id\"]|\n",
    "|autor|author|span.user-post__author-name|\n",
    "|rekomendacja|recommendation|span.user-post__recomendation > em|\n",
    "|liczba gwiazdek|stars|span.user-post__score-count|\n",
    "|treść opinii|content|div.user-post__text|\n",
    "|lista zalet|pros|div.review-feature__title--positives ~ div.review-feature__item|\n",
    "|lista wad|cons|div.review-feature__title--negatives ~ div.review-feature__item|\n",
    "|data wystawienia opinii|post_date|span.user-post__published > time:nth-child(1)[\"datetime\"]|\n",
    "|data zakupu produktu|purchase_date|span.user-post__published > time:nth-child(2)[\"datetime\"]|\n",
    "|ile osób uznało opinię za przydatną|useful|button.vote-yes > span|\n",
    "|ile osób uznało opinię za nieprzydatną|useless|button.vote-no > span|"
   ]
  },
  {
   "cell_type": "code",
   "execution_count": 2,
   "metadata": {},
   "outputs": [
    {
     "data": {
      "text/plain": [
       "162846924"
      ]
     },
     "execution_count": 2,
     "metadata": {},
     "output_type": "execute_result"
    }
   ],
   "source": [
    "149845826\n",
    "158186036\n",
    "152295133\n",
    "162688719\n",
    "162846924"
   ]
  },
  {
   "cell_type": "markdown",
   "metadata": {},
   "source": [
    "1. Import bibliotek."
   ]
  },
  {
   "cell_type": "code",
   "execution_count": 4,
   "metadata": {},
   "outputs": [],
   "source": [
    "import requests\n",
    "from bs4 import BeautifulSoup\n",
    "import os\n",
    "import json"
   ]
  },
  {
   "cell_type": "markdown",
   "metadata": {},
   "source": [
    "2. Wysłanie ządania dostępu do zasobu."
   ]
  },
  {
   "cell_type": "code",
   "execution_count": 5,
   "metadata": {},
   "outputs": [
    {
     "name": "stdout",
     "output_type": "stream",
     "text": [
      "200\n"
     ]
    }
   ],
   "source": [
    "product_code = \"149845826\"\n",
    "url = f\"https://www.ceneo.pl/{product_code}#tab=reviews\"\n",
    "response = requests.get(url)\n",
    "print(response.status_code)"
   ]
  },
  {
   "cell_type": "markdown",
   "metadata": {},
   "source": [
    "3. Wydobycie z kodu HTML fragmentów  odpowiadających opiniom"
   ]
  },
  {
   "cell_type": "code",
   "execution_count": 6,
   "metadata": {},
   "outputs": [],
   "source": [
    "page = BeautifulSoup(response.text, \"html.parser\")\n",
    "opinions = page.select(\"div.js_product-review\")"
   ]
  },
  {
   "cell_type": "markdown",
   "metadata": {},
   "source": [
    "4. Wydobycie z kodu opinii jej składowych dla każdej opinii na stronie"
   ]
  },
  {
   "cell_type": "code",
   "execution_count": 12,
   "metadata": {},
   "outputs": [
    {
     "name": "stdout",
     "output_type": "stream",
     "text": [
      "[{'opinion_id': '17644074', 'author': 'h...z', 'recommendation': '', 'stars': '5/5', 'content': '#Promocja-Galaxy \\nTelefon jest szybki, działa bez zacięć. Robi dobre zdjęcia, bateria trzyma dwa dni,\\nbardzo dobry głośnik. Dużym plusem jest że ma miejsce na kartę microSD.\\nBardzo dobry smartfon. Jestem bardzo zadowolona z zakupu.', 'pros': [], 'cons': [], 'post_date': '2023-06-24 10:14:32', 'useful': '6', 'useless': '2'}, {'opinion_id': '17497612', 'author': 'M...k', 'recommendation': '', 'stars': '4,5/5', 'content': 'Przesiadłam się z Samsunga A50 na A54 więc przeskok jest spory. Nie lubię zbyt często zmieniać telefonu więc pomyślałam że poprostu przesiądę się na nowszy model. A53 mnie nie przekonało więc czekałam na A54. Po miesiącu użytkowania mogę powiedzieć że:\\n*robi fajne zdjęcia, \\n*bluetooth szybko paruje się z urzadzeniami, \\n*jakość rozmów jest dobra,\\n*aplikacje socjal mediów się nie zacinają,\\n*szybko łączy się z internetem czy to WiFi czy transmisja danych,\\n*bateria trzyma cały dzień,\\n*bardzo fajny głośnik.\\nZ wad to napewno brak wejścia mini jack  oraz raz zawiesił się podczas oglądania filmu na disney+. Czy polecam ten telefon? Dla osoby która nie gra w gry tylko zależy jej na dobrych zdjęciach, długim wsparciu że strony producenta oraz żeby apki płynnie śmigały to jak najbardziej.', 'pros': ['czas pracy na baterii', 'długie wsparcie', 'głośnik', 'łatwość obsługi', 'szybki bluetooth', 'wygląd'], 'cons': ['brak minijack'], 'post_date': '2023-05-11 18:21:22', 'useful': '16', 'useless': '2'}, {'opinion_id': '17803324', 'author': 'o...n', 'recommendation': '', 'stars': '5/5', 'content': 'Nie jest to flagowiec czyli Samsung Galaxy S więc nie jest \"top of the top\". Natomiast potrzebując czegoś ze średniej półki jest to świetny wybór i dlatego daję 5 gwiazdek.', 'pros': ['czas pracy na baterii', 'funkcjonalność', 'łatwość obsługi', 'wygląd'], 'cons': [], 'post_date': '2023-08-15 09:56:25', 'useful': '6', 'useless': '0'}, {'opinion_id': '17646953', 'author': 'p...a', 'recommendation': '', 'stars': '4,5/5', 'content': 'Design miły dla oka, wielki plus za szkło z tyłu,. Telefon jest dość szeroki ale to mi absolutnie nie przeszkadza a wręcz dla mnie jest to atut. Super jasny ekran o dobrej jakości. Aparat robi dobre zdjęcia zarówno w dzień jak i w nocy. Co ważne dla mnie to to że aparat nie przekłamuje kolorów a zdjęcia są ostre. Głośniki mają na prawdę dobra jakość. Ogólne użytkowanie oceniam na 9/10, ponieważ bateria w nocy zaskakująco szybko spada (nawet o 20%) z czym się nie spotkałam w poprzednich modelach telefonów. Mimo tego bateria wytrzymuje cały dzień intensywnego użytkowania bez włączonego oszczędzania baterii i włączoną transmisją danych. Z minusów oprócz działania baterii w nocy mogę wymienić ewentualnie długość jej ładowania mimo super szybkiego trybu ładownia od 6 do 100% ładuje się w ponad godzinę, a w porowanaiu do wcześniejszego telefonu jest to spora różnica. Podsumowując - po ok. tygodniu używania - polecam. Za cenę 1599 zł myślę, że warty kupna.', 'pros': ['czas pracy na baterii', 'długie wsparcie', 'funkcjonalność', 'głośnik', 'łatwość obsługi', 'szybki bluetooth', 'wygląd'], 'cons': [], 'post_date': '2023-06-26 11:12:01', 'useful': '3', 'useless': '2'}, {'opinion_id': '18257691', 'author': 'c...o', 'recommendation': '', 'stars': '4,5/5', 'content': 'Elegancki, bałam się że będzie za duży (do tej pory miałam Galaxy A5 z 2017, inny rozmiar) ale jest okej. Systemem się nie różni, małe detale tylko - niektóre funkcje są przedstawione w innym miejscu, lub inaczej się wyświetlają, ale to kwestia przyzwyczajenia.\\nJak na razie sprawuje się elegancko, bateria przy minimalnym użyciu (bez włączonego WiFi czy danych komórkowych, bez patrzenia w aplikacje) trzyma tak 2,5 dnia, może do końca trzeciego (akurat nie sprawdziłam tego), przy bardziej intensywnym tak 1,5 dnia? Ciężko powiedzieć, bo nie zwróciłam aż tak uwagi.\\nNa chwilę obecną jestem zadowolona.', 'pros': ['czas pracy na baterii', 'funkcjonalność', 'głośnik', 'łatwość obsługi', 'wygląd'], 'cons': ['brak minijack'], 'post_date': '2023-12-29 13:43:11', 'useful': '2', 'useless': '0'}, {'opinion_id': '18384972', 'author': 'Paweł', 'recommendation': '', 'stars': '5/5', 'content': 'Po miesiącu użytkowania jestem zadowolony\\nUwagi dotyczące telefonu z jakimi się spotykałem dotyczyły głównie Baterii, Czytnika lini papilarnych oraz aparatu\\nCo do Baterii - przy umiarkowanym użytkowaniu telefon wytryzmuje dwa dni, przy intensywnym na spokojnie uciągnie cały dzień.\\nCzytnik linii papilarnych - faktycznie zdarza się że nie złapie za pierwszym razem ale na ogół działa bez zarzutów i nie przeszkadza w codziennym użytkowaniu.\\nAparat - jak na tę półkę cenowa uważam że nie ma na co narzekać. Aparat dobrze sobie radzi zarowno w naturalnym jak i sztucznym świetle, całkiem przyjemna jakość, a szczególne wrażenie zrobiły na mnie zdjęcia nocą przy bardzo kiepskim oświetleniu, gdzie na prawdę zdjęcia wyszły przyjemne.', 'pros': ['czas pracy na baterii', 'funkcjonalność', 'głośnik', 'łatwość obsługi', 'płynność działania', 'wygląd'], 'cons': [], 'post_date': '2024-02-09 13:15:51', 'useful': '0', 'useless': '1'}, {'opinion_id': '17773464', 'author': 'Mateusz', 'recommendation': '', 'stars': '5/5', 'content': 'Przesiadka z LG G8s na Samsung A54. Wszystkie irytujące mnie rzeczy w tamtym modelu zostały zażegnane. Nie mam Bóg wie jakich wymagań, bo nie gram na telefonie, ważne żeby był ergonomiczny, stabilny system i dobry aparat. Aparat w tym modelu jest bardzo dobry, chociaż często zdjęcia są przekoloryzowane (mimo wyłączenia HDR). Wolałem kolory w LG G8s, natomiast jakościowo zdjęcia tutaj są dużo lepsze. Telefon wydaje się być trochę gruby, ale to kwestia przyzwyczajenia. Brakuje mi jedynie ładowania indukcyjnego (nie rozumiem dlaczego zrezygnowali z tej opcji).', 'pros': ['czas pracy na baterii', 'funkcjonalność', 'głośnik', 'łatwość obsługi', 'wygląd'], 'cons': [], 'post_date': '2023-08-04 10:41:56', 'useful': '3', 'useless': '1'}, {'opinion_id': '17525754', 'author': 'w...3', 'recommendation': '', 'stars': '5/5', 'content': 'Jestem zadowolony z produktu', 'pros': ['czas pracy na baterii', 'funkcjonalność', 'łatwość obsługi', 'wygląd'], 'cons': [], 'post_date': '2023-05-19 11:08:51', 'useful': '3', 'useless': '1'}, {'opinion_id': '18651216', 'author': 'k...9', 'recommendation': '', 'stars': '5/5', 'content': 'Testuję telefon od kilku dni w porównaniu do mojego poprzedniego telefonu a 32 wyświetlacz dużo jaśniejszy,wielkościowo podobny,troszkę szerszy i grubszy,posiada wejście na kartę pamięci jednak jest to slot wspólny albo karta sd albo sim2 brak wejścia słuchawkowego trzeba dokupić przejściówkę z usbC na jack,bateria trzyma ok dwóch dni, dotyk działa płynnie bez zastrzeżeń ogólnie telefon fajny godny polecenia aczkolwiek nie ma wielkiego przeskoku technologicznego w stosunku do a 32 po prostu nowszy model trochę unowocześniony', 'pros': [], 'cons': [], 'post_date': '2024-05-15 23:05:01', 'useful': '1', 'useless': '0'}, {'opinion_id': '18085406', 'author': 'i...n', 'recommendation': '', 'stars': '5/5', 'content': 'Przesiadłem się z Motoroli akurat na ten model z uwagi na lepszą jakość zdjęć.  Rzeczywiście pod tym względem zmiana na plus. NFC tez dziala o wiele szybciej. Minus, że w porównaniu z modelami Motoroli sprawia wrazenie nieco cegłowatego, Motki sa jednak zgrabniejsze. No i nie ma gestu zaświecenia latarki przez potrząsanie, czego mi bardzo brakuje. Moglby miec tez gniazdo Jack... Ale ogólnie to fajny telefon, poza tym nie mam zastrzeżeń. Działa sprawnie.', 'pros': [], 'cons': [], 'post_date': '2023-11-10 08:47:13', 'useful': '3', 'useless': '0'}]\n"
     ]
    }
   ],
   "source": [
    "all_opinions = []\n",
    "for opinion in opinions:\n",
    "    single_opinion = {\n",
    "        'opinion_id': opinion[\"data-entry-id\"].strip(),\n",
    "        'author': opinion.select_one(\"span.user-post__author-name\").text.strip() if opinion.select_one(\"span.user-post__author-name\") else '',\n",
    "        'recommendation': opinion.select_one(\"span.user-post__recomendation > em\").text.strip() if opinion.select_one(\"span.user-post__recomendation > em\") else '',\n",
    "        'stars': opinion.select_one(\"span.user-post__score-count\").text.strip() if opinion.select_one(\"span.user-post__score-count\") else '',\n",
    "        'content': opinion.select_one(\"div.user-post__text\").text.strip() if opinion.select_one(\"div.user-post__text\") else '',\n",
    "        'pros': [p.text.strip() for p in opinion.select(\"div.review-feature__title--positives ~ div.review-feature__item\")],\n",
    "        'cons': [c.text.strip() for c in opinion.select(\"div.review-feature__title--negatives ~ div.review-feature__item\")],\n",
    "        'post_date': opinion.select_one(\"span.user-post__published > time:nth-child(1)\")[\"datetime\"].strip() if opinion.select_one(\"span.user-post__published > time:nth-child(1)\") else '',\n",
    "        # 'purchase_date': opinion.select_one(\"span.user-post__published > time:nth-child(2)\").get(\"datetime\", \"\").strip() if opinion.select_one(\"span.user-post__published > time:nth-child(2)\") else '',\n",
    "        'useful': opinion.select_one(\"button.vote-yes > span\").text.strip() if opinion.select_one(\"button.vote-yes > span\") else '',\n",
    "        'useless': opinion.select_one(\"button.vote-no > span\").text.strip() if opinion.select_one(\"button.vote-no > span\") else '',\n",
    "    }\n",
    "    all_opinions.append(single_opinion)\n",
    "\n",
    "print(all_opinions)\n"
   ]
  },
  {
   "cell_type": "code",
   "execution_count": null,
   "metadata": {},
   "outputs": [],
   "source": []
  },
  {
   "cell_type": "markdown",
   "metadata": {},
   "source": [
    "5. Zapis opinii do pliku JSON"
   ]
  },
  {
   "cell_type": "code",
   "execution_count": 28,
   "metadata": {},
   "outputs": [],
   "source": [
    "if not os.path.exists(\"opinions\"):\n",
    "    os.mkdir(\"opinions\")\n",
    "jf = open(f\"opinions/{product_code}.json\", \"w\", encoding=\"UTF-8\")\n",
    "json.dump(all_opinions, jf, indent=4, ensure_ascii=False)\n",
    "jf.close()"
   ]
  }
 ],
 "metadata": {
  "kernelspec": {
   "display_name": ".venv",
   "language": "python",
   "name": "python3"
  },
  "language_info": {
   "codemirror_mode": {
    "name": "ipython",
    "version": 3
   },
   "file_extension": ".py",
   "mimetype": "text/x-python",
   "name": "python",
   "nbconvert_exporter": "python",
   "pygments_lexer": "ipython3",
   "version": "3.12.3"
  }
 },
 "nbformat": 4,
 "nbformat_minor": 2
}
